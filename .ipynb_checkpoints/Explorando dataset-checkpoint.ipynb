{
 "cells": [
  {
   "cell_type": "markdown",
   "metadata": {},
   "source": [
    "# Explorando os dados"
   ]
  },
  {
   "cell_type": "code",
   "execution_count": 1,
   "metadata": {},
   "outputs": [],
   "source": [
    "import pandas as pd"
   ]
  },
  {
   "cell_type": "code",
   "execution_count": 11,
   "metadata": {},
   "outputs": [],
   "source": [
    "df = pd.read_csv('Comparativo_Geração_de_Energia_Semana_Full_Data_data (1).csv', sep=';')"
   ]
  },
  {
   "cell_type": "code",
   "execution_count": 12,
   "metadata": {},
   "outputs": [
    {
     "data": {
      "text/html": [
       "<div>\n",
       "<style scoped>\n",
       "    .dataframe tbody tr th:only-of-type {\n",
       "        vertical-align: middle;\n",
       "    }\n",
       "\n",
       "    .dataframe tbody tr th {\n",
       "        vertical-align: top;\n",
       "    }\n",
       "\n",
       "    .dataframe thead th {\n",
       "        text-align: right;\n",
       "    }\n",
       "</style>\n",
       "<table border=\"1\" class=\"dataframe\">\n",
       "  <thead>\n",
       "    <tr style=\"text-align: right;\">\n",
       "      <th></th>\n",
       "      <th>Data Escala de Tempo 1 GE Comp 3</th>\n",
       "      <th>Selecione Comparar GE Comp 3</th>\n",
       "      <th>dsc_estado</th>\n",
       "      <th>id_subsistema</th>\n",
       "      <th>Modalidade de Operação</th>\n",
       "      <th>nom_tipocombustivel2</th>\n",
       "      <th>nom_tipousinasite</th>\n",
       "      <th>nom_usina2</th>\n",
       "      <th>Período Verifica GE Comp 3</th>\n",
       "      <th>USINACEG</th>\n",
       "      <th>...</th>\n",
       "      <th>Data Dica Comp</th>\n",
       "      <th>Data do Incio da Semana Din Instante GE Comp 3</th>\n",
       "      <th>Din Instante</th>\n",
       "      <th>Din Instante GE Comp 3</th>\n",
       "      <th>Período Data 1 GE Comp 3</th>\n",
       "      <th>Período Exibido GE</th>\n",
       "      <th>Table Name</th>\n",
       "      <th>Texto Incio Semana</th>\n",
       "      <th>Val Geraenergiacongwh</th>\n",
       "      <th>Val Geraenergiaconmwmed</th>\n",
       "    </tr>\n",
       "  </thead>\n",
       "  <tbody>\n",
       "    <tr>\n",
       "      <th>0</th>\n",
       "      <td>01/01/2015 00:00:00</td>\n",
       "      <td>Térmica</td>\n",
       "      <td>AMAZONAS</td>\n",
       "      <td>Norte</td>\n",
       "      <td>Tipo III</td>\n",
       "      <td>Petróleo</td>\n",
       "      <td>Térmica</td>\n",
       "      <td>Itacoatiara</td>\n",
       "      <td>Verdadeiro</td>\n",
       "      <td>Itacoatiara (CEG: UTE.PE.AM.001157-6.01)</td>\n",
       "      <td>...</td>\n",
       "      <td>2015</td>\n",
       "      <td>NaN</td>\n",
       "      <td>31/12/2015 00:00:00</td>\n",
       "      <td>01/01/2015 00:00:00</td>\n",
       "      <td>01/01/2015 00:00:00</td>\n",
       "      <td>1</td>\n",
       "      <td>gr_anusinaprevcarga</td>\n",
       "      <td>NaN</td>\n",
       "      <td>0</td>\n",
       "      <td>0</td>\n",
       "    </tr>\n",
       "    <tr>\n",
       "      <th>1</th>\n",
       "      <td>01/01/2018 00:00:00</td>\n",
       "      <td>Térmica</td>\n",
       "      <td>AMAZONAS</td>\n",
       "      <td>Norte</td>\n",
       "      <td>Tipo III</td>\n",
       "      <td>Petróleo</td>\n",
       "      <td>Térmica</td>\n",
       "      <td>Itacoatiara</td>\n",
       "      <td>Verdadeiro</td>\n",
       "      <td>Itacoatiara (CEG: UTE.PE.AM.001157-6.01)</td>\n",
       "      <td>...</td>\n",
       "      <td>2018</td>\n",
       "      <td>NaN</td>\n",
       "      <td>31/12/2018 00:00:00</td>\n",
       "      <td>01/01/2018 00:00:00</td>\n",
       "      <td>01/01/2018 00:00:00</td>\n",
       "      <td>1</td>\n",
       "      <td>gr_anusinaprevcarga</td>\n",
       "      <td>NaN</td>\n",
       "      <td>0</td>\n",
       "      <td>0</td>\n",
       "    </tr>\n",
       "    <tr>\n",
       "      <th>2</th>\n",
       "      <td>01/01/2016 00:00:00</td>\n",
       "      <td>Térmica</td>\n",
       "      <td>AMAZONAS</td>\n",
       "      <td>Norte</td>\n",
       "      <td>Tipo III</td>\n",
       "      <td>Petróleo</td>\n",
       "      <td>Térmica</td>\n",
       "      <td>Itacoatiara</td>\n",
       "      <td>Verdadeiro</td>\n",
       "      <td>Itacoatiara (CEG: UTE.PE.AM.001157-6.01)</td>\n",
       "      <td>...</td>\n",
       "      <td>2016</td>\n",
       "      <td>NaN</td>\n",
       "      <td>31/12/2016 00:00:00</td>\n",
       "      <td>01/01/2016 00:00:00</td>\n",
       "      <td>01/01/2016 00:00:00</td>\n",
       "      <td>1</td>\n",
       "      <td>gr_anusinaprevcarga</td>\n",
       "      <td>NaN</td>\n",
       "      <td>0,29023624</td>\n",
       "      <td>0,033041</td>\n",
       "    </tr>\n",
       "    <tr>\n",
       "      <th>3</th>\n",
       "      <td>01/01/2017 00:00:00</td>\n",
       "      <td>Térmica</td>\n",
       "      <td>AMAZONAS</td>\n",
       "      <td>Norte</td>\n",
       "      <td>Tipo III</td>\n",
       "      <td>Petróleo</td>\n",
       "      <td>Térmica</td>\n",
       "      <td>Itacoatiara</td>\n",
       "      <td>Verdadeiro</td>\n",
       "      <td>Itacoatiara (CEG: UTE.PE.AM.001157-6.01)</td>\n",
       "      <td>...</td>\n",
       "      <td>2017</td>\n",
       "      <td>NaN</td>\n",
       "      <td>31/12/2017 00:00:00</td>\n",
       "      <td>01/01/2017 00:00:00</td>\n",
       "      <td>01/01/2017 00:00:00</td>\n",
       "      <td>1</td>\n",
       "      <td>gr_anusinaprevcarga</td>\n",
       "      <td>NaN</td>\n",
       "      <td>0</td>\n",
       "      <td>0</td>\n",
       "    </tr>\n",
       "    <tr>\n",
       "      <th>4</th>\n",
       "      <td>01/01/2019 00:00:00</td>\n",
       "      <td>Térmica</td>\n",
       "      <td>AMAZONAS</td>\n",
       "      <td>Norte</td>\n",
       "      <td>Tipo III</td>\n",
       "      <td>Petróleo</td>\n",
       "      <td>Térmica</td>\n",
       "      <td>Itacoatiara</td>\n",
       "      <td>Verdadeiro</td>\n",
       "      <td>Itacoatiara (CEG: UTE.PE.AM.001157-6.01)</td>\n",
       "      <td>...</td>\n",
       "      <td>2019</td>\n",
       "      <td>NaN</td>\n",
       "      <td>31/12/2019 00:00:00</td>\n",
       "      <td>01/01/2019 00:00:00</td>\n",
       "      <td>01/01/2019 00:00:00</td>\n",
       "      <td>1</td>\n",
       "      <td>gr_anusinaprevcarga</td>\n",
       "      <td>NaN</td>\n",
       "      <td>0</td>\n",
       "      <td>0</td>\n",
       "    </tr>\n",
       "  </tbody>\n",
       "</table>\n",
       "<p>5 rows × 31 columns</p>\n",
       "</div>"
      ],
      "text/plain": [
       "  Data Escala de Tempo 1 GE Comp 3 Selecione Comparar GE Comp 3 dsc_estado  \\\n",
       "0              01/01/2015 00:00:00                      Térmica   AMAZONAS   \n",
       "1              01/01/2018 00:00:00                      Térmica   AMAZONAS   \n",
       "2              01/01/2016 00:00:00                      Térmica   AMAZONAS   \n",
       "3              01/01/2017 00:00:00                      Térmica   AMAZONAS   \n",
       "4              01/01/2019 00:00:00                      Térmica   AMAZONAS   \n",
       "\n",
       "  id_subsistema Modalidade de Operação nom_tipocombustivel2 nom_tipousinasite  \\\n",
       "0         Norte               Tipo III             Petróleo           Térmica   \n",
       "1         Norte               Tipo III             Petróleo           Térmica   \n",
       "2         Norte               Tipo III             Petróleo           Térmica   \n",
       "3         Norte               Tipo III             Petróleo           Térmica   \n",
       "4         Norte               Tipo III             Petróleo           Térmica   \n",
       "\n",
       "     nom_usina2 Período Verifica GE Comp 3  \\\n",
       "0   Itacoatiara                 Verdadeiro   \n",
       "1   Itacoatiara                 Verdadeiro   \n",
       "2   Itacoatiara                 Verdadeiro   \n",
       "3   Itacoatiara                 Verdadeiro   \n",
       "4   Itacoatiara                 Verdadeiro   \n",
       "\n",
       "                                    USINACEG  ... Data Dica Comp  \\\n",
       "0   Itacoatiara (CEG: UTE.PE.AM.001157-6.01)  ...           2015   \n",
       "1   Itacoatiara (CEG: UTE.PE.AM.001157-6.01)  ...           2018   \n",
       "2   Itacoatiara (CEG: UTE.PE.AM.001157-6.01)  ...           2016   \n",
       "3   Itacoatiara (CEG: UTE.PE.AM.001157-6.01)  ...           2017   \n",
       "4   Itacoatiara (CEG: UTE.PE.AM.001157-6.01)  ...           2019   \n",
       "\n",
       "   Data do Incio da Semana Din Instante GE Comp 3         Din Instante  \\\n",
       "0                                             NaN  31/12/2015 00:00:00   \n",
       "1                                             NaN  31/12/2018 00:00:00   \n",
       "2                                             NaN  31/12/2016 00:00:00   \n",
       "3                                             NaN  31/12/2017 00:00:00   \n",
       "4                                             NaN  31/12/2019 00:00:00   \n",
       "\n",
       "   Din Instante GE Comp 3 Período Data 1 GE Comp 3  Período Exibido GE  \\\n",
       "0     01/01/2015 00:00:00      01/01/2015 00:00:00                   1   \n",
       "1     01/01/2018 00:00:00      01/01/2018 00:00:00                   1   \n",
       "2     01/01/2016 00:00:00      01/01/2016 00:00:00                   1   \n",
       "3     01/01/2017 00:00:00      01/01/2017 00:00:00                   1   \n",
       "4     01/01/2019 00:00:00      01/01/2019 00:00:00                   1   \n",
       "\n",
       "            Table Name  Texto Incio Semana Val Geraenergiacongwh  \\\n",
       "0  gr_anusinaprevcarga                 NaN                     0   \n",
       "1  gr_anusinaprevcarga                 NaN                     0   \n",
       "2  gr_anusinaprevcarga                 NaN            0,29023624   \n",
       "3  gr_anusinaprevcarga                 NaN                     0   \n",
       "4  gr_anusinaprevcarga                 NaN                     0   \n",
       "\n",
       "  Val Geraenergiaconmwmed  \n",
       "0                       0  \n",
       "1                       0  \n",
       "2                0,033041  \n",
       "3                       0  \n",
       "4                       0  \n",
       "\n",
       "[5 rows x 31 columns]"
      ]
     },
     "execution_count": 12,
     "metadata": {},
     "output_type": "execute_result"
    }
   ],
   "source": [
    "df.head()"
   ]
  },
  {
   "cell_type": "code",
   "execution_count": 13,
   "metadata": {},
   "outputs": [
    {
     "data": {
      "text/html": [
       "<div>\n",
       "<style scoped>\n",
       "    .dataframe tbody tr th:only-of-type {\n",
       "        vertical-align: middle;\n",
       "    }\n",
       "\n",
       "    .dataframe tbody tr th {\n",
       "        vertical-align: top;\n",
       "    }\n",
       "\n",
       "    .dataframe thead th {\n",
       "        text-align: right;\n",
       "    }\n",
       "</style>\n",
       "<table border=\"1\" class=\"dataframe\">\n",
       "  <thead>\n",
       "    <tr style=\"text-align: right;\">\n",
       "      <th></th>\n",
       "      <th>dsc_estado</th>\n",
       "      <th>id_subsistema</th>\n",
       "      <th>nom_tipousinasite</th>\n",
       "      <th>nom_tipocombustivel2</th>\n",
       "      <th>nom_usina2</th>\n",
       "      <th>Data Dica Comp</th>\n",
       "      <th>Val Geraenergiacongwh</th>\n",
       "      <th>Val Geraenergiaconmwmed</th>\n",
       "    </tr>\n",
       "  </thead>\n",
       "  <tbody>\n",
       "    <tr>\n",
       "      <th>0</th>\n",
       "      <td>AMAZONAS</td>\n",
       "      <td>Norte</td>\n",
       "      <td>Térmica</td>\n",
       "      <td>Petróleo</td>\n",
       "      <td>Itacoatiara</td>\n",
       "      <td>2015</td>\n",
       "      <td>0</td>\n",
       "      <td>0</td>\n",
       "    </tr>\n",
       "    <tr>\n",
       "      <th>1</th>\n",
       "      <td>AMAZONAS</td>\n",
       "      <td>Norte</td>\n",
       "      <td>Térmica</td>\n",
       "      <td>Petróleo</td>\n",
       "      <td>Itacoatiara</td>\n",
       "      <td>2018</td>\n",
       "      <td>0</td>\n",
       "      <td>0</td>\n",
       "    </tr>\n",
       "    <tr>\n",
       "      <th>2</th>\n",
       "      <td>AMAZONAS</td>\n",
       "      <td>Norte</td>\n",
       "      <td>Térmica</td>\n",
       "      <td>Petróleo</td>\n",
       "      <td>Itacoatiara</td>\n",
       "      <td>2016</td>\n",
       "      <td>0,29023624</td>\n",
       "      <td>0,033041</td>\n",
       "    </tr>\n",
       "    <tr>\n",
       "      <th>3</th>\n",
       "      <td>AMAZONAS</td>\n",
       "      <td>Norte</td>\n",
       "      <td>Térmica</td>\n",
       "      <td>Petróleo</td>\n",
       "      <td>Itacoatiara</td>\n",
       "      <td>2017</td>\n",
       "      <td>0</td>\n",
       "      <td>0</td>\n",
       "    </tr>\n",
       "    <tr>\n",
       "      <th>4</th>\n",
       "      <td>AMAZONAS</td>\n",
       "      <td>Norte</td>\n",
       "      <td>Térmica</td>\n",
       "      <td>Petróleo</td>\n",
       "      <td>Itacoatiara</td>\n",
       "      <td>2019</td>\n",
       "      <td>0</td>\n",
       "      <td>0</td>\n",
       "    </tr>\n",
       "  </tbody>\n",
       "</table>\n",
       "</div>"
      ],
      "text/plain": [
       "  dsc_estado id_subsistema nom_tipousinasite nom_tipocombustivel2  \\\n",
       "0   AMAZONAS         Norte           Térmica             Petróleo   \n",
       "1   AMAZONAS         Norte           Térmica             Petróleo   \n",
       "2   AMAZONAS         Norte           Térmica             Petróleo   \n",
       "3   AMAZONAS         Norte           Térmica             Petróleo   \n",
       "4   AMAZONAS         Norte           Térmica             Petróleo   \n",
       "\n",
       "     nom_usina2  Data Dica Comp Val Geraenergiacongwh Val Geraenergiaconmwmed  \n",
       "0   Itacoatiara            2015                     0                       0  \n",
       "1   Itacoatiara            2018                     0                       0  \n",
       "2   Itacoatiara            2016            0,29023624                0,033041  \n",
       "3   Itacoatiara            2017                     0                       0  \n",
       "4   Itacoatiara            2019                     0                       0  "
      ]
     },
     "execution_count": 13,
     "metadata": {},
     "output_type": "execute_result"
    }
   ],
   "source": [
    "df1 = df[['dsc_estado', \n",
    "          'id_subsistema', \n",
    "          'nom_tipousinasite', \n",
    "          'nom_tipocombustivel2', \n",
    "          'nom_usina2', \n",
    "          'Data Dica Comp',\n",
    "          'Val Geraenergiacongwh',\n",
    "          'Val Geraenergiaconmwmed']]\n",
    "\n",
    "df1.head()"
   ]
  },
  {
   "cell_type": "code",
   "execution_count": 15,
   "metadata": {},
   "outputs": [
    {
     "name": "stderr",
     "output_type": "stream",
     "text": [
      "<ipython-input-15-4c433fca345c>:1: SettingWithCopyWarning: \n",
      "A value is trying to be set on a copy of a slice from a DataFrame.\n",
      "Try using .loc[row_indexer,col_indexer] = value instead\n",
      "\n",
      "See the caveats in the documentation: https://pandas.pydata.org/pandas-docs/stable/user_guide/indexing.html#returning-a-view-versus-a-copy\n",
      "  df1['Val Geraenergiacongwh'] = df['Val Geraenergiacongwh'].str.replace(',', '.')\n",
      "<ipython-input-15-4c433fca345c>:2: SettingWithCopyWarning: \n",
      "A value is trying to be set on a copy of a slice from a DataFrame.\n",
      "Try using .loc[row_indexer,col_indexer] = value instead\n",
      "\n",
      "See the caveats in the documentation: https://pandas.pydata.org/pandas-docs/stable/user_guide/indexing.html#returning-a-view-versus-a-copy\n",
      "  df1['Val Geraenergiaconmwmed'] = df['Val Geraenergiaconmwmed'].str.replace(',', '.')\n"
     ]
    },
    {
     "data": {
      "text/html": [
       "<div>\n",
       "<style scoped>\n",
       "    .dataframe tbody tr th:only-of-type {\n",
       "        vertical-align: middle;\n",
       "    }\n",
       "\n",
       "    .dataframe tbody tr th {\n",
       "        vertical-align: top;\n",
       "    }\n",
       "\n",
       "    .dataframe thead th {\n",
       "        text-align: right;\n",
       "    }\n",
       "</style>\n",
       "<table border=\"1\" class=\"dataframe\">\n",
       "  <thead>\n",
       "    <tr style=\"text-align: right;\">\n",
       "      <th></th>\n",
       "      <th>dsc_estado</th>\n",
       "      <th>id_subsistema</th>\n",
       "      <th>nom_tipousinasite</th>\n",
       "      <th>nom_tipocombustivel2</th>\n",
       "      <th>nom_usina2</th>\n",
       "      <th>Data Dica Comp</th>\n",
       "      <th>Val Geraenergiacongwh</th>\n",
       "      <th>Val Geraenergiaconmwmed</th>\n",
       "    </tr>\n",
       "  </thead>\n",
       "  <tbody>\n",
       "    <tr>\n",
       "      <th>0</th>\n",
       "      <td>AMAZONAS</td>\n",
       "      <td>Norte</td>\n",
       "      <td>Térmica</td>\n",
       "      <td>Petróleo</td>\n",
       "      <td>Itacoatiara</td>\n",
       "      <td>2015</td>\n",
       "      <td>0</td>\n",
       "      <td>0</td>\n",
       "    </tr>\n",
       "    <tr>\n",
       "      <th>1</th>\n",
       "      <td>AMAZONAS</td>\n",
       "      <td>Norte</td>\n",
       "      <td>Térmica</td>\n",
       "      <td>Petróleo</td>\n",
       "      <td>Itacoatiara</td>\n",
       "      <td>2018</td>\n",
       "      <td>0</td>\n",
       "      <td>0</td>\n",
       "    </tr>\n",
       "    <tr>\n",
       "      <th>2</th>\n",
       "      <td>AMAZONAS</td>\n",
       "      <td>Norte</td>\n",
       "      <td>Térmica</td>\n",
       "      <td>Petróleo</td>\n",
       "      <td>Itacoatiara</td>\n",
       "      <td>2016</td>\n",
       "      <td>0.29023624</td>\n",
       "      <td>0.033041</td>\n",
       "    </tr>\n",
       "    <tr>\n",
       "      <th>3</th>\n",
       "      <td>AMAZONAS</td>\n",
       "      <td>Norte</td>\n",
       "      <td>Térmica</td>\n",
       "      <td>Petróleo</td>\n",
       "      <td>Itacoatiara</td>\n",
       "      <td>2017</td>\n",
       "      <td>0</td>\n",
       "      <td>0</td>\n",
       "    </tr>\n",
       "    <tr>\n",
       "      <th>4</th>\n",
       "      <td>AMAZONAS</td>\n",
       "      <td>Norte</td>\n",
       "      <td>Térmica</td>\n",
       "      <td>Petróleo</td>\n",
       "      <td>Itacoatiara</td>\n",
       "      <td>2019</td>\n",
       "      <td>0</td>\n",
       "      <td>0</td>\n",
       "    </tr>\n",
       "  </tbody>\n",
       "</table>\n",
       "</div>"
      ],
      "text/plain": [
       "  dsc_estado id_subsistema nom_tipousinasite nom_tipocombustivel2  \\\n",
       "0   AMAZONAS         Norte           Térmica             Petróleo   \n",
       "1   AMAZONAS         Norte           Térmica             Petróleo   \n",
       "2   AMAZONAS         Norte           Térmica             Petróleo   \n",
       "3   AMAZONAS         Norte           Térmica             Petróleo   \n",
       "4   AMAZONAS         Norte           Térmica             Petróleo   \n",
       "\n",
       "     nom_usina2  Data Dica Comp Val Geraenergiacongwh Val Geraenergiaconmwmed  \n",
       "0   Itacoatiara            2015                     0                       0  \n",
       "1   Itacoatiara            2018                     0                       0  \n",
       "2   Itacoatiara            2016            0.29023624                0.033041  \n",
       "3   Itacoatiara            2017                     0                       0  \n",
       "4   Itacoatiara            2019                     0                       0  "
      ]
     },
     "execution_count": 15,
     "metadata": {},
     "output_type": "execute_result"
    }
   ],
   "source": [
    "df1['Val Geraenergiacongwh'] = df['Val Geraenergiacongwh'].str.replace(',', '.')\n",
    "df1['Val Geraenergiaconmwmed'] = df['Val Geraenergiaconmwmed'].str.replace(',', '.')\n",
    "df1.head()"
   ]
  },
  {
   "cell_type": "code",
   "execution_count": 16,
   "metadata": {},
   "outputs": [
    {
     "data": {
      "text/plain": [
       "0        False\n",
       "1        False\n",
       "2        False\n",
       "3        False\n",
       "4        False\n",
       "         ...  \n",
       "18762    False\n",
       "18763    False\n",
       "18764    False\n",
       "18765    False\n",
       "18766    False\n",
       "Name: Val Geraenergiacongwh, Length: 18767, dtype: bool"
      ]
     },
     "execution_count": 16,
     "metadata": {},
     "output_type": "execute_result"
    }
   ],
   "source": [
    "df1['Val Geraenergiacongwh'] == 0"
   ]
  },
  {
   "cell_type": "code",
   "execution_count": null,
   "metadata": {},
   "outputs": [],
   "source": [
    "# PARAMOS AQUI, GALERA\n",
    "\n",
    "#list(filter(lambda a: a != 2, x))"
   ]
  },
  {
   "cell_type": "code",
   "execution_count": null,
   "metadata": {},
   "outputs": [],
   "source": [
    "#df.drop(indexNames , inplace=True)\n",
    "\n",
    "#indexNames = df[ (df['Price'] >= 30)\n",
    "                & (df['Price'] <= 70) ].index\n",
    "#df.drop(indexNames , inplace=True)"
   ]
  },
  {
   "cell_type": "code",
   "execution_count": 4,
   "metadata": {},
   "outputs": [
    {
     "name": "stdout",
     "output_type": "stream",
     "text": [
      "<class 'pandas.core.frame.DataFrame'>\n",
      "RangeIndex: 18767 entries, 0 to 18766\n",
      "Data columns (total 31 columns):\n",
      " #   Column                                                Non-Null Count  Dtype  \n",
      "---  ------                                                --------------  -----  \n",
      " 0   Data Escala de Tempo 1 GE Comp 3                      18767 non-null  object \n",
      " 1   Selecione Comparar GE Comp 3                          18767 non-null  object \n",
      " 2   dsc_estado                                            18767 non-null  object \n",
      " 3   id_subsistema                                         18767 non-null  object \n",
      " 4   Modalidade de Operação                                18767 non-null  object \n",
      " 5   nom_tipocombustivel2                                  18767 non-null  object \n",
      " 6   nom_tipousinasite                                     18767 non-null  object \n",
      " 7   nom_usina2                                            18767 non-null  object \n",
      " 8   Período Verifica GE Comp 3                            18767 non-null  object \n",
      " 9   USINACEG                                              18767 non-null  object \n",
      " 10  Selecione Tipo de GE Comp 3                           18767 non-null  object \n",
      " 11  cod_aneel (tb_referenciacegusina (Conjunto))          0 non-null      float64\n",
      " 12  cod_aneel (tb_referenciacegusina1 (PrevCarga))        18475 non-null  object \n",
      " 13  cod_aneel (tb_usina (Usina))                          0 non-null      float64\n",
      " 14  cod_modalidadeoperusiconj (tb usina)                  17571 non-null  object \n",
      " 15  cod_nucleoaneel (tb_referenciacegusina (Conjunto))    0 non-null      float64\n",
      " 16  cod_nucleoaneel (tb_referenciacegusina (Pequena))     0 non-null      float64\n",
      " 17  cod_nucleoaneel (tb_referenciacegusina (Usina))       0 non-null      float64\n",
      " 18  cod_nucleoaneel (tb_referenciacegusina1 (PrevCarga))  18767 non-null  object \n",
      " 19  Codigo Aneel                                          18475 non-null  object \n",
      " 20  Codigo Nucleo Aneel                                   18767 non-null  object \n",
      " 21  Data Dica Comp                                        18767 non-null  int64  \n",
      " 22  Data do Incio da Semana Din Instante GE Comp 3        0 non-null      float64\n",
      " 23  Din Instante                                          18767 non-null  object \n",
      " 24  Din Instante GE Comp 3                                18767 non-null  object \n",
      " 25  Período Data 1 GE Comp 3                              18767 non-null  object \n",
      " 26  Período Exibido GE                                    18767 non-null  int64  \n",
      " 27  Table Name                                            18767 non-null  object \n",
      " 28  Texto Incio Semana                                    0 non-null      float64\n",
      " 29  Val Geraenergiacongwh                                 18767 non-null  object \n",
      " 30  Val Geraenergiaconmwmed                               18767 non-null  object \n",
      "dtypes: float64(7), int64(2), object(22)\n",
      "memory usage: 4.4+ MB\n"
     ]
    }
   ],
   "source": [
    "# método .info() para obter os tipos de dados todas as variáveis\n",
    "\n",
    "df.info()"
   ]
  },
  {
   "cell_type": "code",
   "execution_count": 5,
   "metadata": {},
   "outputs": [
    {
     "data": {
      "text/plain": [
       "Index(['Data Escala de Tempo 1 GE Comp 3', 'Selecione Comparar GE Comp 3',\n",
       "       'dsc_estado', 'id_subsistema', 'Modalidade de Operação',\n",
       "       'nom_tipocombustivel2', 'nom_tipousinasite', 'nom_usina2',\n",
       "       'Período Verifica GE Comp 3', 'USINACEG', 'Selecione Tipo de GE Comp 3',\n",
       "       'cod_aneel (tb_referenciacegusina (Conjunto))',\n",
       "       'cod_aneel (tb_referenciacegusina1 (PrevCarga))',\n",
       "       'cod_aneel (tb_usina (Usina))', 'cod_modalidadeoperusiconj (tb usina)',\n",
       "       'cod_nucleoaneel (tb_referenciacegusina (Conjunto))',\n",
       "       'cod_nucleoaneel (tb_referenciacegusina (Pequena))',\n",
       "       'cod_nucleoaneel (tb_referenciacegusina (Usina))',\n",
       "       'cod_nucleoaneel (tb_referenciacegusina1 (PrevCarga))', 'Codigo Aneel',\n",
       "       'Codigo Nucleo Aneel', 'Data Dica Comp',\n",
       "       'Data do Incio da Semana Din Instante GE Comp 3', 'Din Instante',\n",
       "       'Din Instante GE Comp 3', 'Período Data 1 GE Comp 3',\n",
       "       'Período Exibido GE', 'Table Name', 'Texto Incio Semana',\n",
       "       'Val Geraenergiacongwh', 'Val Geraenergiaconmwmed'],\n",
       "      dtype='object')"
      ]
     },
     "execution_count": 5,
     "metadata": {},
     "output_type": "execute_result"
    }
   ],
   "source": [
    "# método .columns para examinar os nomes de todas as variáveis\n",
    "\n",
    "df.columns"
   ]
  },
  {
   "cell_type": "code",
   "execution_count": 6,
   "metadata": {},
   "outputs": [
    {
     "data": {
      "text/plain": [
       "(18767, 31)"
      ]
     },
     "execution_count": 6,
     "metadata": {},
     "output_type": "execute_result"
    }
   ],
   "source": [
    "# descobrindo o números de linhas do dataset\n",
    "\n",
    "df.shape"
   ]
  },
  {
   "cell_type": "code",
   "execution_count": 7,
   "metadata": {},
   "outputs": [
    {
     "data": {
      "text/plain": [
       "Data Escala de Tempo 1 GE Comp 3                            0\n",
       "Selecione Comparar GE Comp 3                                0\n",
       "dsc_estado                                                  0\n",
       "id_subsistema                                               0\n",
       "Modalidade de Operação                                      0\n",
       "nom_tipocombustivel2                                        0\n",
       "nom_tipousinasite                                           0\n",
       "nom_usina2                                                  0\n",
       "Período Verifica GE Comp 3                                  0\n",
       "USINACEG                                                    0\n",
       "Selecione Tipo de GE Comp 3                                 0\n",
       "cod_aneel (tb_referenciacegusina (Conjunto))            18767\n",
       "cod_aneel (tb_referenciacegusina1 (PrevCarga))            292\n",
       "cod_aneel (tb_usina (Usina))                            18767\n",
       "cod_modalidadeoperusiconj (tb usina)                     1196\n",
       "cod_nucleoaneel (tb_referenciacegusina (Conjunto))      18767\n",
       "cod_nucleoaneel (tb_referenciacegusina (Pequena))       18767\n",
       "cod_nucleoaneel (tb_referenciacegusina (Usina))         18767\n",
       "cod_nucleoaneel (tb_referenciacegusina1 (PrevCarga))        0\n",
       "Codigo Aneel                                              292\n",
       "Codigo Nucleo Aneel                                         0\n",
       "Data Dica Comp                                              0\n",
       "Data do Incio da Semana Din Instante GE Comp 3          18767\n",
       "Din Instante                                                0\n",
       "Din Instante GE Comp 3                                      0\n",
       "Período Data 1 GE Comp 3                                    0\n",
       "Período Exibido GE                                          0\n",
       "Table Name                                                  0\n",
       "Texto Incio Semana                                      18767\n",
       "Val Geraenergiacongwh                                       0\n",
       "Val Geraenergiaconmwmed                                     0\n",
       "dtype: int64"
      ]
     },
     "execution_count": 7,
     "metadata": {},
     "output_type": "execute_result"
    }
   ],
   "source": [
    "# verificando valores nulos/NaN\n",
    "\n",
    "df.isnull().sum()"
   ]
  },
  {
   "cell_type": "markdown",
   "metadata": {},
   "source": [
    "As variáveis **Data do Incio da Semana Din Instante GE Comp 3** e **Texto Incio Semana** têm 'NaN' em todas as observações "
   ]
  },
  {
   "cell_type": "code",
   "execution_count": 8,
   "metadata": {},
   "outputs": [
    {
     "data": {
      "text/plain": [
       "5"
      ]
     },
     "execution_count": 8,
     "metadata": {},
     "output_type": "execute_result"
    }
   ],
   "source": [
    "# A função .nunique() retorna o número de elementos únicos na variável.\n",
    "\n",
    "df['Selecione Comparar GE Comp 3'].nunique()"
   ]
  },
  {
   "cell_type": "code",
   "execution_count": 9,
   "metadata": {},
   "outputs": [
    {
     "data": {
      "text/plain": [
       "Hidrelétrica    9027\n",
       "Térmica         4664\n",
       "Eólica          4396\n",
       "Solar            635\n",
       "Nuclear           45\n",
       "Name: Selecione Comparar GE Comp 3, dtype: int64"
      ]
     },
     "execution_count": 9,
     "metadata": {},
     "output_type": "execute_result"
    }
   ],
   "source": [
    "# Quais são essas variáveis\n",
    "\n",
    "matriz = df['Selecione Comparar GE Comp 3'].value_counts()\n",
    "matriz.head()"
   ]
  },
  {
   "cell_type": "code",
   "execution_count": 10,
   "metadata": {},
   "outputs": [
    {
     "ename": "KeyError",
     "evalue": "'Selecione Comparar GE Comp 3.1'",
     "output_type": "error",
     "traceback": [
      "\u001b[1;31m---------------------------------------------------------------------------\u001b[0m",
      "\u001b[1;31mKeyError\u001b[0m                                  Traceback (most recent call last)",
      "\u001b[1;32m~\\anaconda3\\lib\\site-packages\\pandas\\core\\indexes\\base.py\u001b[0m in \u001b[0;36mget_loc\u001b[1;34m(self, key, method, tolerance)\u001b[0m\n\u001b[0;32m   2894\u001b[0m             \u001b[1;32mtry\u001b[0m\u001b[1;33m:\u001b[0m\u001b[1;33m\u001b[0m\u001b[1;33m\u001b[0m\u001b[0m\n\u001b[1;32m-> 2895\u001b[1;33m                 \u001b[1;32mreturn\u001b[0m \u001b[0mself\u001b[0m\u001b[1;33m.\u001b[0m\u001b[0m_engine\u001b[0m\u001b[1;33m.\u001b[0m\u001b[0mget_loc\u001b[0m\u001b[1;33m(\u001b[0m\u001b[0mcasted_key\u001b[0m\u001b[1;33m)\u001b[0m\u001b[1;33m\u001b[0m\u001b[1;33m\u001b[0m\u001b[0m\n\u001b[0m\u001b[0;32m   2896\u001b[0m             \u001b[1;32mexcept\u001b[0m \u001b[0mKeyError\u001b[0m \u001b[1;32mas\u001b[0m \u001b[0merr\u001b[0m\u001b[1;33m:\u001b[0m\u001b[1;33m\u001b[0m\u001b[1;33m\u001b[0m\u001b[0m\n",
      "\u001b[1;32mpandas\\_libs\\index.pyx\u001b[0m in \u001b[0;36mpandas._libs.index.IndexEngine.get_loc\u001b[1;34m()\u001b[0m\n",
      "\u001b[1;32mpandas\\_libs\\index.pyx\u001b[0m in \u001b[0;36mpandas._libs.index.IndexEngine.get_loc\u001b[1;34m()\u001b[0m\n",
      "\u001b[1;32mpandas\\_libs\\hashtable_class_helper.pxi\u001b[0m in \u001b[0;36mpandas._libs.hashtable.PyObjectHashTable.get_item\u001b[1;34m()\u001b[0m\n",
      "\u001b[1;32mpandas\\_libs\\hashtable_class_helper.pxi\u001b[0m in \u001b[0;36mpandas._libs.hashtable.PyObjectHashTable.get_item\u001b[1;34m()\u001b[0m\n",
      "\u001b[1;31mKeyError\u001b[0m: 'Selecione Comparar GE Comp 3.1'",
      "\nThe above exception was the direct cause of the following exception:\n",
      "\u001b[1;31mKeyError\u001b[0m                                  Traceback (most recent call last)",
      "\u001b[1;32m<ipython-input-10-443f41dc4f2a>\u001b[0m in \u001b[0;36m<module>\u001b[1;34m\u001b[0m\n\u001b[1;32m----> 1\u001b[1;33m \u001b[0mdf\u001b[0m\u001b[1;33m[\u001b[0m\u001b[1;34m'Selecione Comparar GE Comp 3.1'\u001b[0m\u001b[1;33m]\u001b[0m\u001b[1;33m.\u001b[0m\u001b[0mnunique\u001b[0m\u001b[1;33m(\u001b[0m\u001b[1;33m)\u001b[0m\u001b[1;33m\u001b[0m\u001b[1;33m\u001b[0m\u001b[0m\n\u001b[0m",
      "\u001b[1;32m~\\anaconda3\\lib\\site-packages\\pandas\\core\\frame.py\u001b[0m in \u001b[0;36m__getitem__\u001b[1;34m(self, key)\u001b[0m\n\u001b[0;32m   2900\u001b[0m             \u001b[1;32mif\u001b[0m \u001b[0mself\u001b[0m\u001b[1;33m.\u001b[0m\u001b[0mcolumns\u001b[0m\u001b[1;33m.\u001b[0m\u001b[0mnlevels\u001b[0m \u001b[1;33m>\u001b[0m \u001b[1;36m1\u001b[0m\u001b[1;33m:\u001b[0m\u001b[1;33m\u001b[0m\u001b[1;33m\u001b[0m\u001b[0m\n\u001b[0;32m   2901\u001b[0m                 \u001b[1;32mreturn\u001b[0m \u001b[0mself\u001b[0m\u001b[1;33m.\u001b[0m\u001b[0m_getitem_multilevel\u001b[0m\u001b[1;33m(\u001b[0m\u001b[0mkey\u001b[0m\u001b[1;33m)\u001b[0m\u001b[1;33m\u001b[0m\u001b[1;33m\u001b[0m\u001b[0m\n\u001b[1;32m-> 2902\u001b[1;33m             \u001b[0mindexer\u001b[0m \u001b[1;33m=\u001b[0m \u001b[0mself\u001b[0m\u001b[1;33m.\u001b[0m\u001b[0mcolumns\u001b[0m\u001b[1;33m.\u001b[0m\u001b[0mget_loc\u001b[0m\u001b[1;33m(\u001b[0m\u001b[0mkey\u001b[0m\u001b[1;33m)\u001b[0m\u001b[1;33m\u001b[0m\u001b[1;33m\u001b[0m\u001b[0m\n\u001b[0m\u001b[0;32m   2903\u001b[0m             \u001b[1;32mif\u001b[0m \u001b[0mis_integer\u001b[0m\u001b[1;33m(\u001b[0m\u001b[0mindexer\u001b[0m\u001b[1;33m)\u001b[0m\u001b[1;33m:\u001b[0m\u001b[1;33m\u001b[0m\u001b[1;33m\u001b[0m\u001b[0m\n\u001b[0;32m   2904\u001b[0m                 \u001b[0mindexer\u001b[0m \u001b[1;33m=\u001b[0m \u001b[1;33m[\u001b[0m\u001b[0mindexer\u001b[0m\u001b[1;33m]\u001b[0m\u001b[1;33m\u001b[0m\u001b[1;33m\u001b[0m\u001b[0m\n",
      "\u001b[1;32m~\\anaconda3\\lib\\site-packages\\pandas\\core\\indexes\\base.py\u001b[0m in \u001b[0;36mget_loc\u001b[1;34m(self, key, method, tolerance)\u001b[0m\n\u001b[0;32m   2895\u001b[0m                 \u001b[1;32mreturn\u001b[0m \u001b[0mself\u001b[0m\u001b[1;33m.\u001b[0m\u001b[0m_engine\u001b[0m\u001b[1;33m.\u001b[0m\u001b[0mget_loc\u001b[0m\u001b[1;33m(\u001b[0m\u001b[0mcasted_key\u001b[0m\u001b[1;33m)\u001b[0m\u001b[1;33m\u001b[0m\u001b[1;33m\u001b[0m\u001b[0m\n\u001b[0;32m   2896\u001b[0m             \u001b[1;32mexcept\u001b[0m \u001b[0mKeyError\u001b[0m \u001b[1;32mas\u001b[0m \u001b[0merr\u001b[0m\u001b[1;33m:\u001b[0m\u001b[1;33m\u001b[0m\u001b[1;33m\u001b[0m\u001b[0m\n\u001b[1;32m-> 2897\u001b[1;33m                 \u001b[1;32mraise\u001b[0m \u001b[0mKeyError\u001b[0m\u001b[1;33m(\u001b[0m\u001b[0mkey\u001b[0m\u001b[1;33m)\u001b[0m \u001b[1;32mfrom\u001b[0m \u001b[0merr\u001b[0m\u001b[1;33m\u001b[0m\u001b[1;33m\u001b[0m\u001b[0m\n\u001b[0m\u001b[0;32m   2898\u001b[0m \u001b[1;33m\u001b[0m\u001b[0m\n\u001b[0;32m   2899\u001b[0m         \u001b[1;32mif\u001b[0m \u001b[0mtolerance\u001b[0m \u001b[1;32mis\u001b[0m \u001b[1;32mnot\u001b[0m \u001b[1;32mNone\u001b[0m\u001b[1;33m:\u001b[0m\u001b[1;33m\u001b[0m\u001b[1;33m\u001b[0m\u001b[0m\n",
      "\u001b[1;31mKeyError\u001b[0m: 'Selecione Comparar GE Comp 3.1'"
     ]
    }
   ],
   "source": [
    "df['Selecione Comparar GE Comp 3.1'].nunique()"
   ]
  },
  {
   "cell_type": "code",
   "execution_count": 11,
   "metadata": {},
   "outputs": [
    {
     "ename": "KeyError",
     "evalue": "'Selecione Comparar GE Comp 3.1'",
     "output_type": "error",
     "traceback": [
      "\u001b[1;31m---------------------------------------------------------------------------\u001b[0m",
      "\u001b[1;31mKeyError\u001b[0m                                  Traceback (most recent call last)",
      "\u001b[1;32m~\\anaconda3\\lib\\site-packages\\pandas\\core\\indexes\\base.py\u001b[0m in \u001b[0;36mget_loc\u001b[1;34m(self, key, method, tolerance)\u001b[0m\n\u001b[0;32m   2894\u001b[0m             \u001b[1;32mtry\u001b[0m\u001b[1;33m:\u001b[0m\u001b[1;33m\u001b[0m\u001b[1;33m\u001b[0m\u001b[0m\n\u001b[1;32m-> 2895\u001b[1;33m                 \u001b[1;32mreturn\u001b[0m \u001b[0mself\u001b[0m\u001b[1;33m.\u001b[0m\u001b[0m_engine\u001b[0m\u001b[1;33m.\u001b[0m\u001b[0mget_loc\u001b[0m\u001b[1;33m(\u001b[0m\u001b[0mcasted_key\u001b[0m\u001b[1;33m)\u001b[0m\u001b[1;33m\u001b[0m\u001b[1;33m\u001b[0m\u001b[0m\n\u001b[0m\u001b[0;32m   2896\u001b[0m             \u001b[1;32mexcept\u001b[0m \u001b[0mKeyError\u001b[0m \u001b[1;32mas\u001b[0m \u001b[0merr\u001b[0m\u001b[1;33m:\u001b[0m\u001b[1;33m\u001b[0m\u001b[1;33m\u001b[0m\u001b[0m\n",
      "\u001b[1;32mpandas\\_libs\\index.pyx\u001b[0m in \u001b[0;36mpandas._libs.index.IndexEngine.get_loc\u001b[1;34m()\u001b[0m\n",
      "\u001b[1;32mpandas\\_libs\\index.pyx\u001b[0m in \u001b[0;36mpandas._libs.index.IndexEngine.get_loc\u001b[1;34m()\u001b[0m\n",
      "\u001b[1;32mpandas\\_libs\\hashtable_class_helper.pxi\u001b[0m in \u001b[0;36mpandas._libs.hashtable.PyObjectHashTable.get_item\u001b[1;34m()\u001b[0m\n",
      "\u001b[1;32mpandas\\_libs\\hashtable_class_helper.pxi\u001b[0m in \u001b[0;36mpandas._libs.hashtable.PyObjectHashTable.get_item\u001b[1;34m()\u001b[0m\n",
      "\u001b[1;31mKeyError\u001b[0m: 'Selecione Comparar GE Comp 3.1'",
      "\nThe above exception was the direct cause of the following exception:\n",
      "\u001b[1;31mKeyError\u001b[0m                                  Traceback (most recent call last)",
      "\u001b[1;32m<ipython-input-11-47f22714c220>\u001b[0m in \u001b[0;36m<module>\u001b[1;34m\u001b[0m\n\u001b[0;32m      1\u001b[0m \u001b[1;31m# Quais são essas variáveis\u001b[0m\u001b[1;33m\u001b[0m\u001b[1;33m\u001b[0m\u001b[1;33m\u001b[0m\u001b[0m\n\u001b[0;32m      2\u001b[0m \u001b[1;33m\u001b[0m\u001b[0m\n\u001b[1;32m----> 3\u001b[1;33m \u001b[0mmatriz1\u001b[0m \u001b[1;33m=\u001b[0m \u001b[0mdf\u001b[0m\u001b[1;33m[\u001b[0m\u001b[1;34m'Selecione Comparar GE Comp 3.1'\u001b[0m\u001b[1;33m]\u001b[0m\u001b[1;33m.\u001b[0m\u001b[0mvalue_counts\u001b[0m\u001b[1;33m(\u001b[0m\u001b[1;33m)\u001b[0m\u001b[1;33m\u001b[0m\u001b[1;33m\u001b[0m\u001b[0m\n\u001b[0m\u001b[0;32m      4\u001b[0m \u001b[0mmatriz1\u001b[0m\u001b[1;33m.\u001b[0m\u001b[0mhead\u001b[0m\u001b[1;33m(\u001b[0m\u001b[1;33m)\u001b[0m\u001b[1;33m\u001b[0m\u001b[1;33m\u001b[0m\u001b[0m\n",
      "\u001b[1;32m~\\anaconda3\\lib\\site-packages\\pandas\\core\\frame.py\u001b[0m in \u001b[0;36m__getitem__\u001b[1;34m(self, key)\u001b[0m\n\u001b[0;32m   2900\u001b[0m             \u001b[1;32mif\u001b[0m \u001b[0mself\u001b[0m\u001b[1;33m.\u001b[0m\u001b[0mcolumns\u001b[0m\u001b[1;33m.\u001b[0m\u001b[0mnlevels\u001b[0m \u001b[1;33m>\u001b[0m \u001b[1;36m1\u001b[0m\u001b[1;33m:\u001b[0m\u001b[1;33m\u001b[0m\u001b[1;33m\u001b[0m\u001b[0m\n\u001b[0;32m   2901\u001b[0m                 \u001b[1;32mreturn\u001b[0m \u001b[0mself\u001b[0m\u001b[1;33m.\u001b[0m\u001b[0m_getitem_multilevel\u001b[0m\u001b[1;33m(\u001b[0m\u001b[0mkey\u001b[0m\u001b[1;33m)\u001b[0m\u001b[1;33m\u001b[0m\u001b[1;33m\u001b[0m\u001b[0m\n\u001b[1;32m-> 2902\u001b[1;33m             \u001b[0mindexer\u001b[0m \u001b[1;33m=\u001b[0m \u001b[0mself\u001b[0m\u001b[1;33m.\u001b[0m\u001b[0mcolumns\u001b[0m\u001b[1;33m.\u001b[0m\u001b[0mget_loc\u001b[0m\u001b[1;33m(\u001b[0m\u001b[0mkey\u001b[0m\u001b[1;33m)\u001b[0m\u001b[1;33m\u001b[0m\u001b[1;33m\u001b[0m\u001b[0m\n\u001b[0m\u001b[0;32m   2903\u001b[0m             \u001b[1;32mif\u001b[0m \u001b[0mis_integer\u001b[0m\u001b[1;33m(\u001b[0m\u001b[0mindexer\u001b[0m\u001b[1;33m)\u001b[0m\u001b[1;33m:\u001b[0m\u001b[1;33m\u001b[0m\u001b[1;33m\u001b[0m\u001b[0m\n\u001b[0;32m   2904\u001b[0m                 \u001b[0mindexer\u001b[0m \u001b[1;33m=\u001b[0m \u001b[1;33m[\u001b[0m\u001b[0mindexer\u001b[0m\u001b[1;33m]\u001b[0m\u001b[1;33m\u001b[0m\u001b[1;33m\u001b[0m\u001b[0m\n",
      "\u001b[1;32m~\\anaconda3\\lib\\site-packages\\pandas\\core\\indexes\\base.py\u001b[0m in \u001b[0;36mget_loc\u001b[1;34m(self, key, method, tolerance)\u001b[0m\n\u001b[0;32m   2895\u001b[0m                 \u001b[1;32mreturn\u001b[0m \u001b[0mself\u001b[0m\u001b[1;33m.\u001b[0m\u001b[0m_engine\u001b[0m\u001b[1;33m.\u001b[0m\u001b[0mget_loc\u001b[0m\u001b[1;33m(\u001b[0m\u001b[0mcasted_key\u001b[0m\u001b[1;33m)\u001b[0m\u001b[1;33m\u001b[0m\u001b[1;33m\u001b[0m\u001b[0m\n\u001b[0;32m   2896\u001b[0m             \u001b[1;32mexcept\u001b[0m \u001b[0mKeyError\u001b[0m \u001b[1;32mas\u001b[0m \u001b[0merr\u001b[0m\u001b[1;33m:\u001b[0m\u001b[1;33m\u001b[0m\u001b[1;33m\u001b[0m\u001b[0m\n\u001b[1;32m-> 2897\u001b[1;33m                 \u001b[1;32mraise\u001b[0m \u001b[0mKeyError\u001b[0m\u001b[1;33m(\u001b[0m\u001b[0mkey\u001b[0m\u001b[1;33m)\u001b[0m \u001b[1;32mfrom\u001b[0m \u001b[0merr\u001b[0m\u001b[1;33m\u001b[0m\u001b[1;33m\u001b[0m\u001b[0m\n\u001b[0m\u001b[0;32m   2898\u001b[0m \u001b[1;33m\u001b[0m\u001b[0m\n\u001b[0;32m   2899\u001b[0m         \u001b[1;32mif\u001b[0m \u001b[0mtolerance\u001b[0m \u001b[1;32mis\u001b[0m \u001b[1;32mnot\u001b[0m \u001b[1;32mNone\u001b[0m\u001b[1;33m:\u001b[0m\u001b[1;33m\u001b[0m\u001b[1;33m\u001b[0m\u001b[0m\n",
      "\u001b[1;31mKeyError\u001b[0m: 'Selecione Comparar GE Comp 3.1'"
     ]
    }
   ],
   "source": [
    "# Quais são essas variáveis\n",
    "\n",
    "matriz1 = df['Selecione Comparar GE Comp 3.1'].value_counts()\n",
    "matriz1.head()"
   ]
  },
  {
   "cell_type": "code",
   "execution_count": 16,
   "metadata": {},
   "outputs": [
    {
     "data": {
      "text/plain": [
       "23"
      ]
     },
     "execution_count": 16,
     "metadata": {},
     "output_type": "execute_result"
    }
   ],
   "source": [
    "df['Data Dica Comp'].nunique()"
   ]
  },
  {
   "cell_type": "code",
   "execution_count": 17,
   "metadata": {},
   "outputs": [
    {
     "data": {
      "text/plain": [
       "2021    5\n",
       "2020    5\n",
       "2019    5\n",
       "2018    5\n",
       "2017    5\n",
       "2016    5\n",
       "2015    5\n",
       "2006    4\n",
       "2007    4\n",
       "2008    4\n",
       "2009    4\n",
       "2010    4\n",
       "2011    4\n",
       "2012    4\n",
       "2013    4\n",
       "2014    4\n",
       "2005    3\n",
       "2004    3\n",
       "2003    3\n",
       "2002    3\n",
       "2001    3\n",
       "2000    3\n",
       "1999    3\n",
       "Name: Data Dica Comp, dtype: int64"
      ]
     },
     "execution_count": 17,
     "metadata": {},
     "output_type": "execute_result"
    }
   ],
   "source": [
    "ano = df['Data Dica Comp'].value_counts()\n",
    "ano.head(23)"
   ]
  },
  {
   "cell_type": "code",
   "execution_count": 18,
   "metadata": {},
   "outputs": [
    {
     "name": "stdout",
     "output_type": "stream",
     "text": [
      "92\n"
     ]
    }
   ],
   "source": [
    "# checando se ano comtempla todas as observações\n",
    "\n",
    "print(ano.sum())"
   ]
  },
  {
   "cell_type": "code",
   "execution_count": 24,
   "metadata": {},
   "outputs": [],
   "source": [
    "# criando máscara booleana para condições iguais a 'Hidrelétrica'\n",
    "\n",
    "#hidreletrica = id_counts == 2\n",
    "\n",
    "df_hidreletrica = df[df['Selecione Comparar GE Comp 3'] == 'Hidrelétrica']\n"
   ]
  },
  {
   "cell_type": "code",
   "execution_count": 25,
   "metadata": {},
   "outputs": [
    {
     "data": {
      "text/html": [
       "<div>\n",
       "<style scoped>\n",
       "    .dataframe tbody tr th:only-of-type {\n",
       "        vertical-align: middle;\n",
       "    }\n",
       "\n",
       "    .dataframe tbody tr th {\n",
       "        vertical-align: top;\n",
       "    }\n",
       "\n",
       "    .dataframe thead th {\n",
       "        text-align: right;\n",
       "    }\n",
       "</style>\n",
       "<table border=\"1\" class=\"dataframe\">\n",
       "  <thead>\n",
       "    <tr style=\"text-align: right;\">\n",
       "      <th></th>\n",
       "      <th>Data Escala de Tempo 1 GE Comp 3</th>\n",
       "      <th>Selecione Comparar GE Comp 3</th>\n",
       "      <th>Codigo Aneel</th>\n",
       "      <th>Codigo Nucleo Aneel</th>\n",
       "      <th>Data Dica Comp</th>\n",
       "      <th>Data do Incio da Semana Din Instante GE Comp 3</th>\n",
       "      <th>Data Escala de Tempo 1 GE Comp 3.1</th>\n",
       "      <th>Período Exibido GE</th>\n",
       "      <th>Selecione Comparar GE Comp 3.1</th>\n",
       "      <th>Texto Incio Semana</th>\n",
       "      <th>Selecione Tipo de GE Comp 3</th>\n",
       "    </tr>\n",
       "  </thead>\n",
       "  <tbody>\n",
       "    <tr>\n",
       "      <th>53</th>\n",
       "      <td>01/01/1999 00:00:00</td>\n",
       "      <td>Hidrelétrica</td>\n",
       "      <td>*</td>\n",
       "      <td>*</td>\n",
       "      <td>1999</td>\n",
       "      <td>NaN</td>\n",
       "      <td>01/01/1999 00:00:00</td>\n",
       "      <td>1</td>\n",
       "      <td>Hidrelétrica</td>\n",
       "      <td>NaN</td>\n",
       "      <td>325373,24058916</td>\n",
       "    </tr>\n",
       "    <tr>\n",
       "      <th>54</th>\n",
       "      <td>01/01/2000 00:00:00</td>\n",
       "      <td>Hidrelétrica</td>\n",
       "      <td>*</td>\n",
       "      <td>*</td>\n",
       "      <td>2000</td>\n",
       "      <td>NaN</td>\n",
       "      <td>01/01/2000 00:00:00</td>\n",
       "      <td>1</td>\n",
       "      <td>Hidrelétrica</td>\n",
       "      <td>NaN</td>\n",
       "      <td>335971,01454259</td>\n",
       "    </tr>\n",
       "    <tr>\n",
       "      <th>55</th>\n",
       "      <td>01/01/2001 00:00:00</td>\n",
       "      <td>Hidrelétrica</td>\n",
       "      <td>*</td>\n",
       "      <td>*</td>\n",
       "      <td>2001</td>\n",
       "      <td>NaN</td>\n",
       "      <td>01/01/2001 00:00:00</td>\n",
       "      <td>1</td>\n",
       "      <td>Hidrelétrica</td>\n",
       "      <td>NaN</td>\n",
       "      <td>292920,7990786</td>\n",
       "    </tr>\n",
       "    <tr>\n",
       "      <th>56</th>\n",
       "      <td>01/01/2002 00:00:00</td>\n",
       "      <td>Hidrelétrica</td>\n",
       "      <td>*</td>\n",
       "      <td>*</td>\n",
       "      <td>2002</td>\n",
       "      <td>NaN</td>\n",
       "      <td>01/01/2002 00:00:00</td>\n",
       "      <td>1</td>\n",
       "      <td>Hidrelétrica</td>\n",
       "      <td>NaN</td>\n",
       "      <td>316015,11152007</td>\n",
       "    </tr>\n",
       "    <tr>\n",
       "      <th>57</th>\n",
       "      <td>01/01/2003 00:00:00</td>\n",
       "      <td>Hidrelétrica</td>\n",
       "      <td>*</td>\n",
       "      <td>*</td>\n",
       "      <td>2003</td>\n",
       "      <td>NaN</td>\n",
       "      <td>01/01/2003 00:00:00</td>\n",
       "      <td>1</td>\n",
       "      <td>Hidrelétrica</td>\n",
       "      <td>NaN</td>\n",
       "      <td>337295,07049707</td>\n",
       "    </tr>\n",
       "  </tbody>\n",
       "</table>\n",
       "</div>"
      ],
      "text/plain": [
       "   Data Escala de Tempo 1 GE Comp 3 Selecione Comparar GE Comp 3 Codigo Aneel  \\\n",
       "53              01/01/1999 00:00:00                 Hidrelétrica            *   \n",
       "54              01/01/2000 00:00:00                 Hidrelétrica            *   \n",
       "55              01/01/2001 00:00:00                 Hidrelétrica            *   \n",
       "56              01/01/2002 00:00:00                 Hidrelétrica            *   \n",
       "57              01/01/2003 00:00:00                 Hidrelétrica            *   \n",
       "\n",
       "   Codigo Nucleo Aneel  Data Dica Comp  \\\n",
       "53                   *            1999   \n",
       "54                   *            2000   \n",
       "55                   *            2001   \n",
       "56                   *            2002   \n",
       "57                   *            2003   \n",
       "\n",
       "    Data do Incio da Semana Din Instante GE Comp 3  \\\n",
       "53                                             NaN   \n",
       "54                                             NaN   \n",
       "55                                             NaN   \n",
       "56                                             NaN   \n",
       "57                                             NaN   \n",
       "\n",
       "   Data Escala de Tempo 1 GE Comp 3.1  Período Exibido GE  \\\n",
       "53                01/01/1999 00:00:00                   1   \n",
       "54                01/01/2000 00:00:00                   1   \n",
       "55                01/01/2001 00:00:00                   1   \n",
       "56                01/01/2002 00:00:00                   1   \n",
       "57                01/01/2003 00:00:00                   1   \n",
       "\n",
       "   Selecione Comparar GE Comp 3.1  Texto Incio Semana  \\\n",
       "53                   Hidrelétrica                 NaN   \n",
       "54                   Hidrelétrica                 NaN   \n",
       "55                   Hidrelétrica                 NaN   \n",
       "56                   Hidrelétrica                 NaN   \n",
       "57                   Hidrelétrica                 NaN   \n",
       "\n",
       "   Selecione Tipo de GE Comp 3  \n",
       "53             325373,24058916  \n",
       "54             335971,01454259  \n",
       "55              292920,7990786  \n",
       "56             316015,11152007  \n",
       "57             337295,07049707  "
      ]
     },
     "execution_count": 25,
     "metadata": {},
     "output_type": "execute_result"
    }
   ],
   "source": [
    "df_hidreletrica.head()"
   ]
  },
  {
   "cell_type": "code",
   "execution_count": 39,
   "metadata": {},
   "outputs": [
    {
     "name": "stdout",
     "output_type": "stream",
     "text": [
      "   Data Escala de Tempo 1 GE Comp 3 Selecione Comparar GE Comp 3 Codigo Aneel  \\\n",
      "0               01/01/1999 00:00:00                      Térmica            *   \n",
      "1               01/01/2000 00:00:00                      Térmica            *   \n",
      "2               01/01/2001 00:00:00                      Térmica            *   \n",
      "3               01/01/2002 00:00:00                      Térmica            *   \n",
      "4               01/01/2003 00:00:00                      Térmica            *   \n",
      "..                              ...                          ...          ...   \n",
      "87              01/01/2017 00:00:00                       Eólica            *   \n",
      "88              01/01/2018 00:00:00                       Eólica            *   \n",
      "89              01/01/2019 00:00:00                       Eólica            *   \n",
      "90              01/01/2020 00:00:00                       Eólica            *   \n",
      "91              01/01/2021 00:00:00                       Eólica            *   \n",
      "\n",
      "   Codigo Nucleo Aneel  Data Dica Comp  \\\n",
      "0                    *            1999   \n",
      "1                    *            2000   \n",
      "2                    *            2001   \n",
      "3                    *            2002   \n",
      "4                    *            2003   \n",
      "..                 ...             ...   \n",
      "87                   *            2017   \n",
      "88                   *            2018   \n",
      "89                   *            2019   \n",
      "90                   *            2020   \n",
      "91                   *            2021   \n",
      "\n",
      "    Data do Incio da Semana Din Instante GE Comp 3  \\\n",
      "0                                              NaN   \n",
      "1                                              NaN   \n",
      "2                                              NaN   \n",
      "3                                              NaN   \n",
      "4                                              NaN   \n",
      "..                                             ...   \n",
      "87                                             NaN   \n",
      "88                                             NaN   \n",
      "89                                             NaN   \n",
      "90                                             NaN   \n",
      "91                                             NaN   \n",
      "\n",
      "   Data Escala de Tempo 1 GE Comp 3.1  Período Exibido GE  \\\n",
      "0                 01/01/1999 00:00:00                   1   \n",
      "1                 01/01/2000 00:00:00                   1   \n",
      "2                 01/01/2001 00:00:00                   1   \n",
      "3                 01/01/2002 00:00:00                   1   \n",
      "4                 01/01/2003 00:00:00                   1   \n",
      "..                                ...                 ...   \n",
      "87                01/01/2017 00:00:00                   1   \n",
      "88                01/01/2018 00:00:00                   1   \n",
      "89                01/01/2019 00:00:00                   1   \n",
      "90                01/01/2020 00:00:00                   1   \n",
      "91                01/01/2021 00:00:00                   1   \n",
      "\n",
      "   Selecione Comparar GE Comp 3.1  Texto Incio Semana  \\\n",
      "0                         Térmica                 NaN   \n",
      "1                         Térmica                 NaN   \n",
      "2                         Térmica                 NaN   \n",
      "3                         Térmica                 NaN   \n",
      "4                         Térmica                 NaN   \n",
      "..                            ...                 ...   \n",
      "87                         Eólica                 NaN   \n",
      "88                         Eólica                 NaN   \n",
      "89                         Eólica                 NaN   \n",
      "90                         Eólica                 NaN   \n",
      "91                         Eólica                 NaN   \n",
      "\n",
      "   Selecione Tipo de GE Comp 3  \n",
      "0                12329,5680043  \n",
      "1               15220,91427329  \n",
      "2               19689,21694907  \n",
      "3               17504,28799394  \n",
      "4               15337,32004255  \n",
      "..                         ...  \n",
      "87              42336,45005842  \n",
      "88              48442,86048863  \n",
      "89             55931,655957650  \n",
      "90              56994,10305024  \n",
      "91              29202,78957679  \n",
      "\n",
      "[92 rows x 11 columns]\n"
     ]
    }
   ],
   "source": [
    "\n",
    "print (df[pd.to_numeric(df['Selecione Tipo de GE Comp 3'], errors='coerce').isnull()])"
   ]
  },
  {
   "cell_type": "code",
   "execution_count": 36,
   "metadata": {},
   "outputs": [
    {
     "ename": "ValueError",
     "evalue": "Unable to parse string \"12329,5680043\" at position 0",
     "output_type": "error",
     "traceback": [
      "\u001b[1;31m---------------------------------------------------------------------------\u001b[0m",
      "\u001b[1;31mValueError\u001b[0m                                Traceback (most recent call last)",
      "\u001b[1;32mpandas\\_libs\\lib.pyx\u001b[0m in \u001b[0;36mpandas._libs.lib.maybe_convert_numeric\u001b[1;34m()\u001b[0m\n",
      "\u001b[1;31mValueError\u001b[0m: Unable to parse string \"12329,5680043\"",
      "\nDuring handling of the above exception, another exception occurred:\n",
      "\u001b[1;31mValueError\u001b[0m                                Traceback (most recent call last)",
      "\u001b[1;32m<ipython-input-36-99b2df7c46ca>\u001b[0m in \u001b[0;36m<module>\u001b[1;34m\u001b[0m\n\u001b[0;32m     13\u001b[0m \u001b[1;33m\u001b[0m\u001b[0m\n\u001b[0;32m     14\u001b[0m \u001b[1;33m\u001b[0m\u001b[0m\n\u001b[1;32m---> 15\u001b[1;33m \u001b[0mdf\u001b[0m\u001b[1;33m[\u001b[0m\u001b[0mnumeric_cols\u001b[0m\u001b[1;33m]\u001b[0m \u001b[1;33m=\u001b[0m \u001b[0mdf\u001b[0m\u001b[1;33m[\u001b[0m\u001b[0mnumeric_cols\u001b[0m\u001b[1;33m]\u001b[0m\u001b[1;33m.\u001b[0m\u001b[0mapply\u001b[0m\u001b[1;33m(\u001b[0m\u001b[0mpd\u001b[0m\u001b[1;33m.\u001b[0m\u001b[0mto_numeric\u001b[0m\u001b[1;33m)\u001b[0m\u001b[1;33m\u001b[0m\u001b[1;33m\u001b[0m\u001b[0m\n\u001b[0m",
      "\u001b[1;32m~\\anaconda3\\lib\\site-packages\\pandas\\core\\frame.py\u001b[0m in \u001b[0;36mapply\u001b[1;34m(self, func, axis, raw, result_type, args, **kwds)\u001b[0m\n\u001b[0;32m   7546\u001b[0m             \u001b[0mkwds\u001b[0m\u001b[1;33m=\u001b[0m\u001b[0mkwds\u001b[0m\u001b[1;33m,\u001b[0m\u001b[1;33m\u001b[0m\u001b[1;33m\u001b[0m\u001b[0m\n\u001b[0;32m   7547\u001b[0m         )\n\u001b[1;32m-> 7548\u001b[1;33m         \u001b[1;32mreturn\u001b[0m \u001b[0mop\u001b[0m\u001b[1;33m.\u001b[0m\u001b[0mget_result\u001b[0m\u001b[1;33m(\u001b[0m\u001b[1;33m)\u001b[0m\u001b[1;33m\u001b[0m\u001b[1;33m\u001b[0m\u001b[0m\n\u001b[0m\u001b[0;32m   7549\u001b[0m \u001b[1;33m\u001b[0m\u001b[0m\n\u001b[0;32m   7550\u001b[0m     \u001b[1;32mdef\u001b[0m \u001b[0mapplymap\u001b[0m\u001b[1;33m(\u001b[0m\u001b[0mself\u001b[0m\u001b[1;33m,\u001b[0m \u001b[0mfunc\u001b[0m\u001b[1;33m)\u001b[0m \u001b[1;33m->\u001b[0m \u001b[1;34m\"DataFrame\"\u001b[0m\u001b[1;33m:\u001b[0m\u001b[1;33m\u001b[0m\u001b[1;33m\u001b[0m\u001b[0m\n",
      "\u001b[1;32m~\\anaconda3\\lib\\site-packages\\pandas\\core\\apply.py\u001b[0m in \u001b[0;36mget_result\u001b[1;34m(self)\u001b[0m\n\u001b[0;32m    178\u001b[0m             \u001b[1;32mreturn\u001b[0m \u001b[0mself\u001b[0m\u001b[1;33m.\u001b[0m\u001b[0mapply_raw\u001b[0m\u001b[1;33m(\u001b[0m\u001b[1;33m)\u001b[0m\u001b[1;33m\u001b[0m\u001b[1;33m\u001b[0m\u001b[0m\n\u001b[0;32m    179\u001b[0m \u001b[1;33m\u001b[0m\u001b[0m\n\u001b[1;32m--> 180\u001b[1;33m         \u001b[1;32mreturn\u001b[0m \u001b[0mself\u001b[0m\u001b[1;33m.\u001b[0m\u001b[0mapply_standard\u001b[0m\u001b[1;33m(\u001b[0m\u001b[1;33m)\u001b[0m\u001b[1;33m\u001b[0m\u001b[1;33m\u001b[0m\u001b[0m\n\u001b[0m\u001b[0;32m    181\u001b[0m \u001b[1;33m\u001b[0m\u001b[0m\n\u001b[0;32m    182\u001b[0m     \u001b[1;32mdef\u001b[0m \u001b[0mapply_empty_result\u001b[0m\u001b[1;33m(\u001b[0m\u001b[0mself\u001b[0m\u001b[1;33m)\u001b[0m\u001b[1;33m:\u001b[0m\u001b[1;33m\u001b[0m\u001b[1;33m\u001b[0m\u001b[0m\n",
      "\u001b[1;32m~\\anaconda3\\lib\\site-packages\\pandas\\core\\apply.py\u001b[0m in \u001b[0;36mapply_standard\u001b[1;34m(self)\u001b[0m\n\u001b[0;32m    269\u001b[0m \u001b[1;33m\u001b[0m\u001b[0m\n\u001b[0;32m    270\u001b[0m     \u001b[1;32mdef\u001b[0m \u001b[0mapply_standard\u001b[0m\u001b[1;33m(\u001b[0m\u001b[0mself\u001b[0m\u001b[1;33m)\u001b[0m\u001b[1;33m:\u001b[0m\u001b[1;33m\u001b[0m\u001b[1;33m\u001b[0m\u001b[0m\n\u001b[1;32m--> 271\u001b[1;33m         \u001b[0mresults\u001b[0m\u001b[1;33m,\u001b[0m \u001b[0mres_index\u001b[0m \u001b[1;33m=\u001b[0m \u001b[0mself\u001b[0m\u001b[1;33m.\u001b[0m\u001b[0mapply_series_generator\u001b[0m\u001b[1;33m(\u001b[0m\u001b[1;33m)\u001b[0m\u001b[1;33m\u001b[0m\u001b[1;33m\u001b[0m\u001b[0m\n\u001b[0m\u001b[0;32m    272\u001b[0m \u001b[1;33m\u001b[0m\u001b[0m\n\u001b[0;32m    273\u001b[0m         \u001b[1;31m# wrap results\u001b[0m\u001b[1;33m\u001b[0m\u001b[1;33m\u001b[0m\u001b[1;33m\u001b[0m\u001b[0m\n",
      "\u001b[1;32m~\\anaconda3\\lib\\site-packages\\pandas\\core\\apply.py\u001b[0m in \u001b[0;36mapply_series_generator\u001b[1;34m(self)\u001b[0m\n\u001b[0;32m    298\u001b[0m                 \u001b[1;32mfor\u001b[0m \u001b[0mi\u001b[0m\u001b[1;33m,\u001b[0m \u001b[0mv\u001b[0m \u001b[1;32min\u001b[0m \u001b[0menumerate\u001b[0m\u001b[1;33m(\u001b[0m\u001b[0mseries_gen\u001b[0m\u001b[1;33m)\u001b[0m\u001b[1;33m:\u001b[0m\u001b[1;33m\u001b[0m\u001b[1;33m\u001b[0m\u001b[0m\n\u001b[0;32m    299\u001b[0m                     \u001b[1;31m# ignore SettingWithCopy here in case the user mutates\u001b[0m\u001b[1;33m\u001b[0m\u001b[1;33m\u001b[0m\u001b[1;33m\u001b[0m\u001b[0m\n\u001b[1;32m--> 300\u001b[1;33m                     \u001b[0mresults\u001b[0m\u001b[1;33m[\u001b[0m\u001b[0mi\u001b[0m\u001b[1;33m]\u001b[0m \u001b[1;33m=\u001b[0m \u001b[0mself\u001b[0m\u001b[1;33m.\u001b[0m\u001b[0mf\u001b[0m\u001b[1;33m(\u001b[0m\u001b[0mv\u001b[0m\u001b[1;33m)\u001b[0m\u001b[1;33m\u001b[0m\u001b[1;33m\u001b[0m\u001b[0m\n\u001b[0m\u001b[0;32m    301\u001b[0m                     \u001b[1;32mif\u001b[0m \u001b[0misinstance\u001b[0m\u001b[1;33m(\u001b[0m\u001b[0mresults\u001b[0m\u001b[1;33m[\u001b[0m\u001b[0mi\u001b[0m\u001b[1;33m]\u001b[0m\u001b[1;33m,\u001b[0m \u001b[0mABCSeries\u001b[0m\u001b[1;33m)\u001b[0m\u001b[1;33m:\u001b[0m\u001b[1;33m\u001b[0m\u001b[1;33m\u001b[0m\u001b[0m\n\u001b[0;32m    302\u001b[0m                         \u001b[1;31m# If we have a view on v, we need to make a copy because\u001b[0m\u001b[1;33m\u001b[0m\u001b[1;33m\u001b[0m\u001b[1;33m\u001b[0m\u001b[0m\n",
      "\u001b[1;32m~\\anaconda3\\lib\\site-packages\\pandas\\core\\tools\\numeric.py\u001b[0m in \u001b[0;36mto_numeric\u001b[1;34m(arg, errors, downcast)\u001b[0m\n\u001b[0;32m    150\u001b[0m         \u001b[0mcoerce_numeric\u001b[0m \u001b[1;33m=\u001b[0m \u001b[0merrors\u001b[0m \u001b[1;32mnot\u001b[0m \u001b[1;32min\u001b[0m \u001b[1;33m(\u001b[0m\u001b[1;34m\"ignore\"\u001b[0m\u001b[1;33m,\u001b[0m \u001b[1;34m\"raise\"\u001b[0m\u001b[1;33m)\u001b[0m\u001b[1;33m\u001b[0m\u001b[1;33m\u001b[0m\u001b[0m\n\u001b[0;32m    151\u001b[0m         \u001b[1;32mtry\u001b[0m\u001b[1;33m:\u001b[0m\u001b[1;33m\u001b[0m\u001b[1;33m\u001b[0m\u001b[0m\n\u001b[1;32m--> 152\u001b[1;33m             values = lib.maybe_convert_numeric(\n\u001b[0m\u001b[0;32m    153\u001b[0m                 \u001b[0mvalues\u001b[0m\u001b[1;33m,\u001b[0m \u001b[0mset\u001b[0m\u001b[1;33m(\u001b[0m\u001b[1;33m)\u001b[0m\u001b[1;33m,\u001b[0m \u001b[0mcoerce_numeric\u001b[0m\u001b[1;33m=\u001b[0m\u001b[0mcoerce_numeric\u001b[0m\u001b[1;33m\u001b[0m\u001b[1;33m\u001b[0m\u001b[0m\n\u001b[0;32m    154\u001b[0m             )\n",
      "\u001b[1;32mpandas\\_libs\\lib.pyx\u001b[0m in \u001b[0;36mpandas._libs.lib.maybe_convert_numeric\u001b[1;34m()\u001b[0m\n",
      "\u001b[1;31mValueError\u001b[0m: Unable to parse string \"12329,5680043\" at position 0"
     ]
    }
   ],
   "source": [
    "# convertendo as variaveis numéricas para números\n",
    "\n",
    "numeric_cols = df.columns.drop(['Data Escala de Tempo 1 GE Comp 3',\n",
    "                                'Selecione Comparar GE Comp 3',\n",
    "                                'Codigo Aneel',\n",
    "                                'Codigo Nucleo Aneel', \n",
    "                                'Data Dica Comp', \n",
    "                                'Data do Incio da Semana Din Instante GE Comp 3', \n",
    "                                'Data Escala de Tempo 1 GE Comp 3.1',\n",
    "                                'Período Exibido GE', \n",
    "                                'Selecione Comparar GE Comp 3.1', \n",
    "                                'Texto Incio Semana'])\n",
    "\n",
    "\n",
    "df[numeric_cols] = df[numeric_cols].apply(pd.to_numeric)\n"
   ]
  },
  {
   "cell_type": "code",
   "execution_count": 28,
   "metadata": {},
   "outputs": [
    {
     "data": {
      "text/plain": [
       "'325373,24058916335971,01454259292920,7990786316015,11152007337295,07049707352536,28550275370852,42818839382746,16382933406496,98107412398304,0810519415138,96906271423132,5233117449615,35134249439533,07056302412710,03645974391376,225303390272,007402221416766,70658928401148,05901522417934,30118297418182,25090291415503,0415294210475,97899475'"
      ]
     },
     "execution_count": 28,
     "metadata": {},
     "output_type": "execute_result"
    }
   ],
   "source": [
    "# esta variável está como string (precisa converter)\n",
    "\n",
    "df_hidreletrica['Selecione Tipo de GE Comp 3'].sum()"
   ]
  },
  {
   "cell_type": "code",
   "execution_count": null,
   "metadata": {},
   "outputs": [],
   "source": []
  }
 ],
 "metadata": {
  "kernelspec": {
   "display_name": "Python 3",
   "language": "python",
   "name": "python3"
  },
  "language_info": {
   "codemirror_mode": {
    "name": "ipython",
    "version": 3
   },
   "file_extension": ".py",
   "mimetype": "text/x-python",
   "name": "python",
   "nbconvert_exporter": "python",
   "pygments_lexer": "ipython3",
   "version": "3.8.5"
  }
 },
 "nbformat": 4,
 "nbformat_minor": 4
}
