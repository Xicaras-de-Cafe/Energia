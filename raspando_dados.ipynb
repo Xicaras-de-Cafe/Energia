{
 "cells": [
  {
   "cell_type": "code",
   "execution_count": 1,
   "metadata": {},
   "outputs": [],
   "source": [
    "import pandas as pd\n",
    "import requests\n",
    "from bs4 import BeautifulSoup"
   ]
  },
  {
   "cell_type": "code",
   "execution_count": 14,
   "metadata": {},
   "outputs": [
    {
     "name": "stdout",
     "output_type": "stream",
     "text": [
      "Requisição bem sucedida!\n"
     ]
    }
   ],
   "source": [
    "req = requests.get('http://sdro.ons.org.br/SDRO/DIARIO/2021_07_18/HTML/23_SituacaoPrincipaisReservatorios_Regiao.html')\n",
    "if req.status_code == 200:\n",
    "    print('Requisição bem sucedida!')\n",
    "    content = req.content"
   ]
  },
  {
   "cell_type": "code",
   "execution_count": 15,
   "metadata": {},
   "outputs": [],
   "source": [
    "soup = BeautifulSoup(content, 'html.parser')\n"
   ]
  },
  {
   "cell_type": "code",
   "execution_count": 16,
   "metadata": {},
   "outputs": [],
   "source": [
    "table = soup.find(name='table')"
   ]
  },
  {
   "cell_type": "code",
   "execution_count": 17,
   "metadata": {},
   "outputs": [],
   "source": [
    "table_str = str(table)\n",
    "df = pd.read_html(table_str)[0]"
   ]
  },
  {
   "cell_type": "code",
   "execution_count": 18,
   "metadata": {},
   "outputs": [
    {
     "data": {
      "text/html": [
       "<div>\n",
       "<style scoped>\n",
       "    .dataframe tbody tr th:only-of-type {\n",
       "        vertical-align: middle;\n",
       "    }\n",
       "\n",
       "    .dataframe tbody tr th {\n",
       "        vertical-align: top;\n",
       "    }\n",
       "\n",
       "    .dataframe thead th {\n",
       "        text-align: right;\n",
       "    }\n",
       "</style>\n",
       "<table border=\"1\" class=\"dataframe\">\n",
       "  <thead>\n",
       "    <tr style=\"text-align: right;\">\n",
       "      <th></th>\n",
       "      <th>0</th>\n",
       "      <th>1</th>\n",
       "      <th>2</th>\n",
       "      <th>3</th>\n",
       "      <th>4</th>\n",
       "      <th>5</th>\n",
       "      <th>6</th>\n",
       "      <th>7</th>\n",
       "    </tr>\n",
       "  </thead>\n",
       "  <tbody>\n",
       "    <tr>\n",
       "      <th>0</th>\n",
       "      <td>Bacia</td>\n",
       "      <td>Reservatório</td>\n",
       "      <td>Nível - m</td>\n",
       "      <td>Volume Útil - %</td>\n",
       "      <td>Vazão - m³/s</td>\n",
       "      <td>Vazão - m³/s</td>\n",
       "      <td>Vazão - m³/s</td>\n",
       "      <td>Vazão - m³/s</td>\n",
       "    </tr>\n",
       "    <tr>\n",
       "      <th>1</th>\n",
       "      <td>Bacia</td>\n",
       "      <td>Reservatório</td>\n",
       "      <td>Nível - m</td>\n",
       "      <td>Volume Útil - %</td>\n",
       "      <td>Afluência</td>\n",
       "      <td>Defluência</td>\n",
       "      <td>Vertida</td>\n",
       "      <td>Transferida</td>\n",
       "    </tr>\n",
       "    <tr>\n",
       "      <th>2</th>\n",
       "      <td>CAPIVARI</td>\n",
       "      <td>G. P. SOUZA</td>\n",
       "      <td>83840</td>\n",
       "      <td>5472</td>\n",
       "      <td>15</td>\n",
       "      <td>20</td>\n",
       "      <td>0</td>\n",
       "      <td>0</td>\n",
       "    </tr>\n",
       "    <tr>\n",
       "      <th>3</th>\n",
       "      <td>ITAJAI</td>\n",
       "      <td>SALTO PILAO</td>\n",
       "      <td>31876</td>\n",
       "      <td>7085</td>\n",
       "      <td>53</td>\n",
       "      <td>53</td>\n",
       "      <td>0</td>\n",
       "      <td>0</td>\n",
       "    </tr>\n",
       "    <tr>\n",
       "      <th>4</th>\n",
       "      <td>IGUACU</td>\n",
       "      <td>G. B. MUNHOZ</td>\n",
       "      <td>72943</td>\n",
       "      <td>6107</td>\n",
       "      <td>214</td>\n",
       "      <td>371</td>\n",
       "      <td>0</td>\n",
       "      <td>0</td>\n",
       "    </tr>\n",
       "  </tbody>\n",
       "</table>\n",
       "</div>"
      ],
      "text/plain": [
       "          0             1          2                3             4  \\\n",
       "0     Bacia  Reservatório  Nível - m  Volume Útil - %  Vazão - m³/s   \n",
       "1     Bacia  Reservatório  Nível - m  Volume Útil - %     Afluência   \n",
       "2  CAPIVARI   G. P. SOUZA      83840             5472            15   \n",
       "3    ITAJAI   SALTO PILAO      31876             7085            53   \n",
       "4    IGUACU  G. B. MUNHOZ      72943             6107           214   \n",
       "\n",
       "              5             6             7  \n",
       "0  Vazão - m³/s  Vazão - m³/s  Vazão - m³/s  \n",
       "1    Defluência       Vertida   Transferida  \n",
       "2            20             0             0  \n",
       "3            53             0             0  \n",
       "4           371             0             0  "
      ]
     },
     "execution_count": 18,
     "metadata": {},
     "output_type": "execute_result"
    }
   ],
   "source": [
    "df.head()"
   ]
  },
  {
   "cell_type": "code",
   "execution_count": null,
   "metadata": {},
   "outputs": [],
   "source": []
  }
 ],
 "metadata": {
  "kernelspec": {
   "display_name": "Python 3",
   "language": "python",
   "name": "python3"
  },
  "language_info": {
   "codemirror_mode": {
    "name": "ipython",
    "version": 3
   },
   "file_extension": ".py",
   "mimetype": "text/x-python",
   "name": "python",
   "nbconvert_exporter": "python",
   "pygments_lexer": "ipython3",
   "version": "3.8.5"
  }
 },
 "nbformat": 4,
 "nbformat_minor": 4
}
